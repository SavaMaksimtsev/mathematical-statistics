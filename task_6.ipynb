{
 "cells": [
  {
   "cell_type": "code",
   "execution_count": 11,
   "id": "ba1dece0-9887-4d72-a736-10fe131e1656",
   "metadata": {},
   "outputs": [
    {
     "name": "stdout",
     "output_type": "stream",
     "text": [
      "Точность построенной модели: 1.0\n"
     ]
    }
   ],
   "source": [
    "# Задача: построить модель логистической регрессии, которая будет предсказывать, что задержка прилёта составит более 15 минут\n",
    "import pandas as pd\n",
    "import numpy as np\n",
    "from sklearn.linear_model import LogisticRegression\n",
    "from sklearn.model_selection import train_test_split\n",
    "\n",
    "df = pd.read_csv('flights_NY.csv').dropna(axis=0)\n",
    "\n",
    "# В качестве признаков я выбрал задержку вылета и расстояние, поскольку это параметры, напрямую влияющие на задержку прилёта, и построил на основе них целевые переменные\n",
    "X = df[['dep_delay', 'arr_delay', 'distance']]\n",
    "y = df['arr_delay'] > 15\n",
    "\n",
    "# Разделил датасет на обучающие и тестовые сеты\n",
    "X_train, X_test, y_train, y_test = train_test_split(X, y, test_size=0.2, random_state=42)\n",
    "\n",
    "# Натренировал модель логистической регрессии\n",
    "model = LogisticRegression()\n",
    "model.fit(X_train, y_train)\n",
    "\n",
    "# Сделал прогнозы\n",
    "y_pred = model.predict(X_test)\n",
    "\n",
    "# Оценил точность модели (результат меня удивил, если честно, но у меня не получилось найти ошибку в коде)\n",
    "accuracy = model.score(X_test, y_test)\n",
    "print('Точность построенной модели:', accuracy)"
   ]
  }
 ],
 "metadata": {
  "kernelspec": {
   "display_name": "Python 3 (ipykernel)",
   "language": "python",
   "name": "python3"
  },
  "language_info": {
   "codemirror_mode": {
    "name": "ipython",
    "version": 3
   },
   "file_extension": ".py",
   "mimetype": "text/x-python",
   "name": "python",
   "nbconvert_exporter": "python",
   "pygments_lexer": "ipython3",
   "version": "3.12.3"
  }
 },
 "nbformat": 4,
 "nbformat_minor": 5
}
